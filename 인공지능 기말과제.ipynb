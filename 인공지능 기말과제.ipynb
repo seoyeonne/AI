{
 "cells": [
  {
   "cell_type": "code",
   "execution_count": null,
   "metadata": {},
   "outputs": [],
   "source": [
    "import matplotlib.pyplot as plt\n",
    "import torch\n",
    "import os\n",
    "import cv2\n",
    "import numpy as np\n",
    "import pandas as pd\n",
    "import PIL \n",
    "import urllib\n",
    "import torch.nn.functional as F\n",
    "import torchvision as tv\n",
    "import natsort\n",
    "from torch.utils.data import SubsetRandomSampler\n",
    "from tqdm import tqdm\n",
    "from PIL import Image\n",
    "from torch import nn\n",
    "from torch import optim\n",
    "from torchvision import datasets, transforms\n",
    "\n",
    "#batch\n",
    "batch_size = 64\n",
    "os.chdir('/Users/hwangseoyeon/Desktop/3-1/AI')"
   ]
  },
  {
   "cell_type": "code",
   "execution_count": null,
   "metadata": {},
   "outputs": [],
   "source": [
    "trans = transforms.Compose([\n",
    "                                transforms.Resize(256),\n",
    "                                transforms.RandomRotation(30), \n",
    "                                transforms.RandomVerticalFlip(0.5),\n",
    "                                transforms.RandomHorizontalFlip(),\n",
    "                                transforms.ToTensor(),\n",
    "                                transforms.Normalize([0.485 , 0.456, 0.406], [0.229, 0.224 , 0.225]),\n",
    "                               ])"
   ]
  },
  {
   "cell_type": "code",
   "execution_count": null,
   "metadata": {},
   "outputs": [],
   "source": [
    "model = 'cpu'\n",
    "if torch.cuda.is_available():\n",
    "    model = 'cuda'"
   ]
  },
  {
   "cell_type": "code",
   "execution_count": null,
   "metadata": {},
   "outputs": [],
   "source": [
    "#학습데이터 \n",
    "train_data = tv.datasets.ImageFolder(root='/Users/hwangseoyeon/Desktop/3-1/AI/train', transform=trans)"
   ]
  },
  {
   "cell_type": "code",
   "execution_count": null,
   "metadata": {},
   "outputs": [],
   "source": [
    "valid_size = 0.1  \n",
    "num_train = len(train_data)\n",
    "num_train = int(num_train)\n",
    "indices = list(range(num_train))\n",
    "np.random.shuffle(indices)\n",
    "split = int(np.floor(valid_size * num_train))\n",
    "train_idx, valid_idx = indices[split:], indices[:split]\n",
    "train_sampler = SubsetRandomSampler(train_idx)\n",
    "valid_sampler = SubsetRandomSampler(valid_idx)"
   ]
  },
  {
   "cell_type": "code",
   "execution_count": null,
   "metadata": {},
   "outputs": [],
   "source": [
    "train_dataloader = torch.utils.data.DataLoader(train_data, batch_size=batch_size,\n",
    "    sampler=train_sampler)\n",
    "valid_dataloader = torch.utils.data.DataLoader(train_data, batch_size=batch_size, \n",
    "    sampler=valid_sampler)\n",
    "len(train_dataloader),len(valid_dataloader)"
   ]
  },
  {
   "cell_type": "code",
   "execution_count": null,
   "metadata": {},
   "outputs": [],
   "source": [
    "#학습\n",
    "from efficientnet_pytorch import EfficientNet\n",
    "model1 = EfficientNet.from_pretrained('efficientnet-b7', num_classes=5)"
   ]
  },
  {
   "cell_type": "code",
   "execution_count": null,
   "metadata": {},
   "outputs": [],
   "source": [
    "import torch.optim as optim\n",
    "model1.to(device)\n",
    "criterion = nn.CrossEntropyLoss()\n",
    "optimizer = optim.Adam(model1.parameters(),lr=0.001)"
   ]
  },
  {
   "cell_type": "code",
   "execution_count": null,
   "metadata": {},
   "outputs": [],
   "source": [
    "epochs = 180\n",
    "\n",
    "valid_loss_min = np.Inf \n",
    "train_loss = torch.zeros(epochs)\n",
    "valid_loss = torch.zeros(epochs)\n",
    "\n",
    "train_acc = torch.zeros(epochs)\n",
    "valid_acc = torch.zeros(epochs)\n"
   ]
  },
  {
   "cell_type": "code",
   "execution_count": null,
   "metadata": {},
   "outputs": [],
   "source": [
    "for e in range(0, epochs):\n",
    "    model1.train()\n",
    "    for x, y in tqdm(train_dataloader):\n",
    "        x, y = x.to(device), y.to(device)\n",
    "        optimizer.zero_grad()\n",
    "        logits = model(x)\n",
    "        loss = criterion(logits, y)\n",
    "        loss.backward()\n",
    "        optimizer.step()\n",
    "        train_loss[e] += loss.item()\n",
    "        \n",
    "        ps = F.softmax(logits, dim=1)\n",
    "        top_p, top_class = ps.topk(1, dim=1)\n",
    "        equals = top_class == labels.reshape(top_class.shape)\n",
    "        train_acc[e] += torch.mean(equals.type(torch.float)).detach().cpu()\n",
    "    \n",
    "    train_loss[e] /= len(train_dataloader)\n",
    "    train_acc[e] /= len(train_dataloader)\n",
    "        \n",
    "        \n",
    "    with torch.no_grad(): \n",
    "        model1.eval()\n",
    "        for x, y in tqdm(valid_dataloader):\n",
    "            \n",
    "            x, y = x.to(model), y.to(model)\n",
    "            logits = model1(x)\n",
    "            loss = criterion(logits, y)\n",
    "            valid_loss[e] += loss.item()\n",
    "            ps = F.softmax(logits, dim=1)\n",
    "            top_p, top_class = ps.topk(1, dim=1)\n",
    "            equals = top_class == labels.reshape(top_class.shape)\n",
    "            valid_acc[e] += torch.mean(equals.type(torch.float)).detach().cpu()\n",
    "            \n",
    "    valid_loss[e] /= len(valid_dataloader)\n",
    "    valid_acc[e] /= len(valid_dataloader)\n",
    "    \n",
    "    if valid_loss[e] <= valid_loss_min:\n",
    "        print('Validation loss decreased ({:.6f} --> {:.6f}).  Saving model ...'.format(\n",
    "        valid_loss_min,\n",
    "        valid_loss[e]))\n",
    "        torch.save(model.state_dict(), 'BestModel.pt')\n",
    "        valid_loss_min = valid_loss[e]"
   ]
  },
  {
   "cell_type": "code",
   "execution_count": null,
   "metadata": {},
   "outputs": [],
   "source": [
    "model1.load_state_dict(torch.load('/Users/hwangseoyeon/Desktop/3-1/AI/Model.pt'))"
   ]
  },
  {
   "cell_type": "code",
   "execution_count": null,
   "metadata": {},
   "outputs": [],
   "source": [
    "test = natsort.natsorted(test_set)\n",
    "test_trans = transforms.Compose([transforms.Resize(256),\n",
    "                                transforms.ToTensor(),\n",
    "                                transforms.Normalize([0.485 , 0.456, 0.406], [0.229, 0.224 , 0.225])\n",
    "                                    ])"
   ]
  },
  {
   "cell_type": "code",
   "execution_count": null,
   "metadata": {},
   "outputs": [],
   "source": [
    "class test_data(torch.utils.data.Dataset):\n",
    "    def __init__(self,imgpath,transform=test_transform):\n",
    "        \n",
    "        self.imgpath = imgpath\n",
    "        self.transform = transform\n",
    "        \n",
    "    def __len__(self):\n",
    "        return len(self.imgpath)\n",
    "    \n",
    "    def __getitem__(self,idx):\n",
    "        x = Image.open(x).convert('RGB')\n",
    "\n",
    "        if self.transform:\n",
    "            x = self.transform(x)\n",
    "        return x"
   ]
  },
  {
   "cell_type": "code",
   "execution_count": null,
   "metadata": {},
   "outputs": [],
   "source": [
    "#테스트데이터 \n",
    "test_data = test_data(test,trans=test_trans)\n",
    "test_loader = torch.utils.data.DataLoader(train_data, shuffle=False, batch_size=batch_size)"
   ]
  },
  {
   "cell_type": "code",
   "execution_count": null,
   "metadata": {},
   "outputs": [],
   "source": [
    "model1.to(model)\n",
    "model1.eval()\n",
    "pred = []\n",
    "\n",
    "#테스트 \n",
    "with torch.no_grad():\n",
    "  for img in tqdm(iter(test_loader)):\n",
    "    img = img.to(model)\n",
    "    pred = model1(img)\n",
    "    f_pred.extend(pred.argmax(1).detach().cpu().numpy().tolist())"
   ]
  },
  {
   "cell_type": "code",
   "execution_count": null,
   "metadata": {},
   "outputs": [],
   "source": [
    "submission = pd.read_csv('/Users/hwangseoyeon/Desktop/3-1/AI/submission.csv')\n",
    "submission['label'] = f_pred\n",
    "submission.to_csv('/Users/hwangseoyeon/Desktop/3-1/AI/_submission.csv', index=False)"
   ]
  }
 ],
 "metadata": {
  "kernelspec": {
   "display_name": "Python 3",
   "language": "python",
   "name": "python3"
  },
  "language_info": {
   "codemirror_mode": {
    "name": "ipython",
    "version": 3
   },
   "file_extension": ".py",
   "mimetype": "text/x-python",
   "name": "python",
   "nbconvert_exporter": "python",
   "pygments_lexer": "ipython3",
   "version": "3.8.5"
  }
 },
 "nbformat": 4,
 "nbformat_minor": 4
}
